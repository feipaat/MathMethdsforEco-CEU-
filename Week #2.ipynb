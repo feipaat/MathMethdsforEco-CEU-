{
 "cells": [
  {
   "cell_type": "markdown",
   "metadata": {
    "collapsed": true
   },
   "source": [
    "# <center>Mathematical Methods for Economists</center>\n",
    "### <center>Part One: Difference and Differential Equations</center>\n",
    "<br>\n",
    "## <center>Imre Fekete</center>\n",
    "<br>\n",
    "<br>\n",
    "<br>\n",
    "## <center>Week Two</center>\n",
    "<br>\n",
    "### Systems of LDEs\n",
    "<br>\n",
    "<br>\n",
    "#### SO case"
   ]
  },
  {
   "cell_type": "code",
   "execution_count": 4,
   "metadata": {},
   "outputs": [
    {
     "data": {
      "image/png": "[encoded data removed]",
      "text/plain": [
       "<IPython.core.display.Image object>"
      ]
     },
     "metadata": {},
     "output_type": "display_data"
    }
   ],
   "source": [
    "a1=0.9;\n",
    "a2=0.7;\n",
    "c=1.1;\n",
    "t=0:1:5;\n",
    "x=zeros(1,size(t,2));\n",
    "y=zeros(1,size(t,2));\n",
    "x(1)=-2;\n",
    "y(1)=2;\n",
    "for j=1:size(t,2)-1\n",
    "    y(j+1)=-a1*y(j)-a2*x(j)+c;\n",
    "    x(j+1)=y(j);\n",
    "end\n",
    "plot(t,x,'o--',t,y,'mo--')"
   ]
  },
  {
   "cell_type": "markdown",
   "metadata": {},
   "source": [
    "#### Eigenvalues and eigenvectors"
   ]
  },
  {
   "cell_type": "code",
   "execution_count": 2,
   "metadata": {},
   "outputs": [
    {
     "name": "stdout",
     "output_type": "stream",
     "text": [
      "A =\n",
      "\n",
      "   2   0\n",
      "   3   0\n",
      "\n",
      "ans =\n",
      "\n",
      "   0\n",
      "   2\n",
      "\n"
     ]
    }
   ],
   "source": [
    "A=[2 0; 3 0]\n",
    "eig(A)"
   ]
  },
  {
   "cell_type": "code",
   "execution_count": 10,
   "metadata": {},
   "outputs": [
    {
     "name": "stdout",
     "output_type": "stream",
     "text": [
      "A =\n",
      "\n",
      "   1  -1\n",
      "  -1   1\n",
      "\n",
      "ans =\n",
      "\n",
      "   0\n",
      "   2\n",
      "\n",
      "ans = 0\n"
     ]
    }
   ],
   "source": [
    "A=[1 -1; -1 1]\n",
    "eig(A)\n",
    "det(A)"
   ]
  },
  {
   "cell_type": "code",
   "execution_count": 9,
   "metadata": {},
   "outputs": [
    {
     "name": "stdout",
     "output_type": "stream",
     "text": [
      "A =\n",
      "\n",
      "  -1   3\n",
      "   2   0\n",
      "\n",
      "e =\n",
      "\n",
      "  -3\n",
      "   2\n",
      "\n",
      "V =\n",
      "\n",
      "  -0.83205  -0.70711\n",
      "   0.55470  -0.70711\n",
      "\n",
      "D =\n",
      "\n",
      "Diagonal Matrix\n",
      "\n",
      "  -3   0\n",
      "   0   2\n",
      "\n"
     ]
    }
   ],
   "source": [
    "A=[-1 3; 2 0]\n",
    "e=eig(A)\n",
    "[V, D]=eig(A) %eturns diagonal matrix D of eigenvalues \n",
    "%and matrix V whose columns are the corresponding right eigenvectors, so that A*V = V*D"
   ]
  },
  {
   "cell_type": "code",
   "execution_count": 11,
   "metadata": {},
   "outputs": [
    {
     "name": "stdout",
     "output_type": "stream",
     "text": [
      "A =\n",
      "\n",
      "  -1   3\n",
      "   2   0\n",
      "\n",
      "ans =\n",
      "\n",
      "   2.00000   0.00000\n",
      "   0.00000  -3.00000\n",
      "\n"
     ]
    }
   ],
   "source": [
    "A=[-1 3; 2 0]\n",
    "P=[1 3; 1 -2];\n",
    "inv(P)*A*P"
   ]
  },
  {
   "cell_type": "code",
   "execution_count": 17,
   "metadata": {},
   "outputs": [
    {
     "name": "stdout",
     "output_type": "stream",
     "text": [
      "A =\n",
      "\n",
      "  -1   3\n",
      "   2   0\n",
      "\n",
      "ans =\n",
      "\n",
      "  -1.00000   3.00000\n",
      "   2.00000   0.00000\n",
      "\n"
     ]
    }
   ],
   "source": [
    "A=[-1 3; 2 0]\n",
    "D=diag(flipud(eig(A)));\n",
    "P=[1 3; 1 -2];\n",
    "P*D*inv(P)"
   ]
  },
  {
   "cell_type": "code",
   "execution_count": null,
   "metadata": {
    "collapsed": true
   },
   "outputs": [],
   "source": []
  }
 ],
 "metadata": {
  "kernelspec": {
   "display_name": "Octave",
   "language": "octave",
   "name": "octave"
  },
  "language_info": {
   "file_extension": ".m",
   "help_links": [
    {
     "text": "GNU Octave",
     "url": "https://www.gnu.org/software/octave/support.html"
    },
    {
     "text": "Octave Kernel",
     "url": "https://github.com/Calysto/octave_kernel"
    },
    {
     "text": "MetaKernel Magics",
     "url": "https://github.com/calysto/metakernel/blob/master/metakernel/magics/README.md"
    }
   ],
   "mimetype": "text/x-octave",
   "name": "octave",
   "version": "4.2.2"
  }
 },
 "nbformat": 4,
 "nbformat_minor": 2
}
